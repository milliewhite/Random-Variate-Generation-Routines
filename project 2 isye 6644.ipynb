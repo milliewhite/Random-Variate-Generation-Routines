{
 "cells": [
  {
   "cell_type": "code",
   "execution_count": 167,
   "metadata": {},
   "outputs": [],
   "source": [
    "#Millie N White\n",
    "#5/1/2021\n",
    "#Programming Oriented Problem #13\n",
    "#Random Variate Generation Routines\n",
    "import random\n",
    "import numpy as np\n",
    "import matplotlib.pyplot as plt\n",
    "import seaborn as sns"
   ]
  },
  {
   "cell_type": "markdown",
   "metadata": {},
   "source": [
    "# DESERT ISLAND GENERATOR"
   ]
  },
  {
   "cell_type": "code",
   "execution_count": 168,
   "metadata": {},
   "outputs": [],
   "source": [
    "#Desert island generator\n",
    "#returns 1 random variable in a numpy array\n",
    "\n",
    "\n",
    "def desert_island_generator(distribution_size = 1, seed = 123456789):\n",
    "     #get 10 random variables\n",
    "    a = 16807   \n",
    "    x_0 = seed  #the seed\n",
    "    m = (2**31)- 1   #number to divide by\n",
    "    U = [0] * distribution_size #initialize list with trials number of random values to generate\n",
    "\n",
    "    x = (x_0 * a ) % m        #\n",
    "    U[0] = x / m           \n",
    "    for i in range(1,distribution_size):    #\n",
    "        x =((x * a) + 1) % m          #\n",
    "        U[i] = x / m           #\n",
    "        U\n",
    "        \n",
    "    #convert list to array\n",
    "    Uarray = np.asarray(U)\n",
    "        \n",
    "    \n",
    "    return Uarray"
   ]
  },
  {
   "cell_type": "code",
   "execution_count": 169,
   "metadata": {},
   "outputs": [
    {
     "data": {
      "text/plain": [
       "array([0.2184183])"
      ]
     },
     "execution_count": 169,
     "metadata": {},
     "output_type": "execute_result"
    }
   ],
   "source": [
    "#call desert_island_generator function and get 1 pseudo random variable\n",
    "desert_island_generator()"
   ]
  },
  {
   "cell_type": "markdown",
   "metadata": {},
   "source": [
    "# CONTINUOUS DISTRIBUTIONS"
   ]
  },
  {
   "cell_type": "code",
   "execution_count": null,
   "metadata": {},
   "outputs": [],
   "source": []
  },
  {
   "cell_type": "markdown",
   "metadata": {},
   "source": [
    "# UNIFORM "
   ]
  },
  {
   "cell_type": "code",
   "execution_count": 170,
   "metadata": {},
   "outputs": [],
   "source": [
    "#X = a + (b − a)U\n",
    "def uniform(a = 0, b = 1, distribution_size = 1,seed = 123456789):    \n",
    "    return a + (b - a) * desert_island_generator(distribution_size,seed)"
   ]
  },
  {
   "cell_type": "code",
   "execution_count": 171,
   "metadata": {},
   "outputs": [
    {
     "data": {
      "text/plain": [
       "array([0.2184183])"
      ]
     },
     "execution_count": 171,
     "metadata": {},
     "output_type": "execute_result"
    }
   ],
   "source": [
    "uniform()"
   ]
  },
  {
   "cell_type": "code",
   "execution_count": 172,
   "metadata": {},
   "outputs": [],
   "source": [
    "# Generate 1000 uniform random variables\n",
    "unif = uniform(a = 0, b = 1, distribution_size = 1000,seed = 123456789) "
   ]
  },
  {
   "cell_type": "code",
   "execution_count": 173,
   "metadata": {},
   "outputs": [
    {
     "data": {
      "image/png": "[encoded data removed]",
      "text/plain": [
       "<Figure size 432x288 with 1 Axes>"
      ]
     },
     "metadata": {
      "needs_background": "light"
     },
     "output_type": "display_data"
    }
   ],
   "source": [
    "#Plot histogram of 1000 random numbers all with values between 0 and 1\n",
    "\n",
    "plt.hist(unif)\n",
    "plt.show()"
   ]
  },
  {
   "cell_type": "markdown",
   "metadata": {},
   "source": [
    "# WEIBULL"
   ]
  },
  {
   "cell_type": "code",
   "execution_count": 174,
   "metadata": {},
   "outputs": [],
   "source": [
    "def weibull(lambd = 5,beta = 2,distribution_size = 1):\n",
    "    seed = random.randint(123456789,500000000000000)\n",
    "    U = uniform(0,1,distribution_size = distribution_size,seed = seed)\n",
    "    U = U.tolist()\n",
    "    weibull = []\n",
    "    for u in U: #loop through list\n",
    "        weib = 1/lambd * (-(np.log(1 - u)))** 1/beta   \n",
    "        weibull.append(weib) #append values in list\n",
    "   \n",
    "    return weibull"
   ]
  },
  {
   "cell_type": "code",
   "execution_count": 175,
   "metadata": {},
   "outputs": [
    {
     "data": {
      "text/plain": [
       "[0.052266313255051516]"
      ]
     },
     "execution_count": 175,
     "metadata": {},
     "output_type": "execute_result"
    }
   ],
   "source": [
    "##Convert one uniform(0,1) to weibull\n",
    "weibull()"
   ]
  },
  {
   "cell_type": "code",
   "execution_count": 176,
   "metadata": {},
   "outputs": [],
   "source": [
    "wei = weibull(lambd = 0.001,beta = 5,distribution_size = 5000)"
   ]
  },
  {
   "cell_type": "code",
   "execution_count": 177,
   "metadata": {},
   "outputs": [
    {
     "data": {
      "image/png": "[encoded data removed]",
      "text/plain": [
       "<Figure size 432x288 with 1 Axes>"
      ]
     },
     "metadata": {
      "needs_background": "light"
     },
     "output_type": "display_data"
    }
   ],
   "source": [
    "#Histogram with 5000 values in a weibull distribution  \n",
    "\n",
    "plt.hist(wei)\n",
    "plt.show()"
   ]
  },
  {
   "cell_type": "markdown",
   "metadata": {},
   "source": [
    "# TRIANGULAR"
   ]
  },
  {
   "cell_type": "code",
   "execution_count": 178,
   "metadata": {},
   "outputs": [],
   "source": [
    "#triangular(0,1,2) distribution\n",
    "def triangular(distribution_size = 1):\n",
    "    seed = random.randint(123456789,500000000000000)\n",
    "    U = uniform(0,1,distribution_size = distribution_size,seed = seed)\n",
    "    triangular = []\n",
    "    for num in U:\n",
    "\n",
    "        if num < 0.5:\n",
    "            tr = np.sqrt(2 * num)\n",
    "        elif num > 0.5:\n",
    "            tr = 2 - np.sqrt(2-(1 - num))\n",
    "        triangular.append(tr)\n",
    "    \n",
    "    triangular = np.asarray(triangular)\n",
    "    \n",
    "#     if U.any() < 1/2:\n",
    "#         triangular = np.sqrt(2 * U)\n",
    "#     elif U.any( )>= 1/2:\n",
    "#         triangular = 2 - np.sqrt(2-(1 - U))\n",
    "    return triangular\n",
    "        \n",
    "    \n",
    "    "
   ]
  },
  {
   "cell_type": "code",
   "execution_count": 179,
   "metadata": {
    "scrolled": true
   },
   "outputs": [
    {
     "data": {
      "text/plain": [
       "array([0.75382818])"
      ]
     },
     "execution_count": 179,
     "metadata": {},
     "output_type": "execute_result"
    }
   ],
   "source": [
    "##Convert one uniform(0,1) to triangular(0,1,2)\n",
    "triangular()"
   ]
  },
  {
   "cell_type": "code",
   "execution_count": 180,
   "metadata": {},
   "outputs": [],
   "source": [
    "trian = triangular(1000)"
   ]
  },
  {
   "cell_type": "code",
   "execution_count": 181,
   "metadata": {},
   "outputs": [
    {
     "data": {
      "image/png": "[encoded data removed]",
      "text/plain": [
       "<Figure size 432x288 with 1 Axes>"
      ]
     },
     "metadata": {
      "needs_background": "light"
     },
     "output_type": "display_data"
    },
    {
     "data": {
      "image/png": "[encoded data removed]",
      "text/plain": [
       "<Figure size 432x288 with 1 Axes>"
      ]
     },
     "metadata": {
      "needs_background": "light"
     },
     "output_type": "display_data"
    }
   ],
   "source": [
    "#Histogram with 1000 values of a triangular(0,1,2) distribution  \n",
    "plt.hist(trian)\n",
    "plt.show()\n",
    "\n",
    "\n",
    "sns.kdeplot(trian)\n",
    "plt.show()"
   ]
  },
  {
   "cell_type": "markdown",
   "metadata": {},
   "source": [
    "# EXPONENTIAL "
   ]
  },
  {
   "cell_type": "code",
   "execution_count": 15,
   "metadata": {},
   "outputs": [],
   "source": [
    "#Generate random variables \n",
    "#use the random variables in the exponential distribution formula\n",
    "#to generate an exponential distribution\n",
    "def exponential(lambd = 5,distribution_size = 1):\n",
    "    seed = random.randint(123456789,500000000000000)\n",
    "    U = uniform(0,1,distribution_size = distribution_size,seed = seed)\n",
    "    U = U.tolist()\n",
    "    exponential = []\n",
    "    for u in U: #loop through list\n",
    "        exp = -(1/lambd) * np.log(1 - u)\n",
    "        exponential.append(exp) #append values in list\n",
    "   \n",
    "    return exponential"
   ]
  },
  {
   "cell_type": "code",
   "execution_count": 16,
   "metadata": {},
   "outputs": [
    {
     "data": {
      "text/plain": [
       "[0.1262384093923044]"
      ]
     },
     "execution_count": 16,
     "metadata": {},
     "output_type": "execute_result"
    }
   ],
   "source": [
    "#Convert one uniform(0,1) to exponential\n",
    "e = exponential()\n",
    "e"
   ]
  },
  {
   "cell_type": "code",
   "execution_count": 19,
   "metadata": {},
   "outputs": [
    {
     "data": {
      "image/png": "[encoded data removed]",
      "text/plain": [
       "<Figure size 432x288 with 1 Axes>"
      ]
     },
     "metadata": {
      "needs_background": "light"
     },
     "output_type": "display_data"
    }
   ],
   "source": [
    "#Histogram of exponential distribution\n",
    "exp = exponential(7,500)\n",
    "exp\n",
    "plt.hist(exp)\n",
    "plt.show()"
   ]
  },
  {
   "cell_type": "markdown",
   "metadata": {},
   "source": [
    "# NORMAL "
   ]
  },
  {
   "cell_type": "code",
   "execution_count": 57,
   "metadata": {},
   "outputs": [],
   "source": [
    "#Generate Normally distributed random variates from Uniform random generators\n",
    "#using Box-Muller\n",
    "#Since Z1 will have a mean of 0 and standard deviation of 1, we can transform Z1 to a new random variable X=Z1*σ+μ to get a normal distribution with mean μ and standard deviation σ.\n",
    "\n",
    "def normal(mu = 0.0,stdev = 1.0,distribution_size = 1):\n",
    "    \n",
    "    seed1 = random.randint(123456789,500000000000000)\n",
    "    seed2 = random.randint(123456789,500000000000000)\n",
    "    U1 = uniform(0,1,distribution_size = distribution_size,seed = seed1)\n",
    "    U2 = uniform(0,1,distribution_size = distribution_size,seed = seed2)\n",
    "    \n",
    "    #print(U1)\n",
    "    z0 = (np.sqrt(-2 * np.log(U1)) )* (np.cos(2 * np.pi * U2))\n",
    "    z1 = np.sqrt(-2 * np.log(U1)) * np.sin(2 * np.pi * U2)\n",
    "    \n",
    "    #z0 with a mean of 0 and standard deviation of 1\n",
    "    z0 = z0 * stdev + mu\n",
    "    z1 = z1 * stdev + mu\n",
    "     \n",
    "    return z0\n",
    "    "
   ]
  },
  {
   "cell_type": "code",
   "execution_count": 58,
   "metadata": {},
   "outputs": [
    {
     "data": {
      "image/png": "[encoded data removed]",
      "text/plain": [
       "<Figure size 432x288 with 1 Axes>"
      ]
     },
     "metadata": {
      "needs_background": "light"
     },
     "output_type": "display_data"
    }
   ],
   "source": [
    "z0 = normal(0,1,100)\n",
    "\n",
    "#Display distribution\n",
    "sns.kdeplot(z0)\n",
    "plt.show()"
   ]
  },
  {
   "cell_type": "code",
   "execution_count": 59,
   "metadata": {},
   "outputs": [
    {
     "data": {
      "image/png": "[encoded data removed]",
      "text/plain": [
       "<Figure size 432x288 with 1 Axes>"
      ]
     },
     "metadata": {
      "needs_background": "light"
     },
     "output_type": "display_data"
    }
   ],
   "source": [
    "#Normal distribution of 1000 values with mean = -3,standard deviation =2\n",
    "z1 = normal(-3.0,2.0,1000)\n",
    "\n",
    "#Display distibution in a histogram\n",
    "plt.hist(z1)\n",
    "plt.show()"
   ]
  },
  {
   "cell_type": "markdown",
   "metadata": {},
   "source": [
    "# DISCRETE DISTRIBUTIONS"
   ]
  },
  {
   "cell_type": "code",
   "execution_count": null,
   "metadata": {},
   "outputs": [],
   "source": []
  },
  {
   "cell_type": "markdown",
   "metadata": {},
   "source": [
    "# BERNOULLI"
   ]
  },
  {
   "cell_type": "code",
   "execution_count": 39,
   "metadata": {},
   "outputs": [],
   "source": [
    "#bernoulli - one coin,one trial\n",
    "def bernoulli(num_coins = 1,distribution_size = 1,p = 0.5):\n",
    "   \n",
    "   \n",
    "    seed = 123456789\n",
    "    bern = uniform(0,1,distribution_size,seed)\n",
    "\n",
    "    #check if random variable is less than or greater than probability of 0.5\n",
    "    #then convert it to integer 0 if false or 1 if true   \n",
    "    bern = (bern < p).astype(int) \n",
    "    return bern\n"
   ]
  },
  {
   "cell_type": "code",
   "execution_count": 40,
   "metadata": {},
   "outputs": [
    {
     "data": {
      "text/plain": [
       "array([1])"
      ]
     },
     "execution_count": 40,
     "metadata": {},
     "output_type": "execute_result"
    }
   ],
   "source": [
    "bernoulli()"
   ]
  },
  {
   "cell_type": "markdown",
   "metadata": {},
   "source": [
    "# BINOMIAL"
   ]
  },
  {
   "cell_type": "code",
   "execution_count": 41,
   "metadata": {},
   "outputs": [],
   "source": [
    "#binomial 1 coin - 1 trial -probability of 0.5\n",
    "def binomial(num_coins = 1,distribution_size = 1,p = 0.5 ):\n",
    "\n",
    "    binomials = []  #list of binomial random variables\n",
    "    for _ in range(distribution_size): #run this 1 time\n",
    "        seed = random.randint(123456789,500000000000000)\n",
    "        U = uniform(distribution_size = num_coins,seed = seed)\n",
    "        \n",
    "        #check if each value in the array is less than/equal to p and convert to 1 or 0\n",
    "        ans = (U <= p).astype(int) \n",
    "        #Add up the values of each trial\n",
    "        binomials.append(np.sum(ans))\n",
    "    return np.array(binomials)"
   ]
  },
  {
   "cell_type": "code",
   "execution_count": 42,
   "metadata": {},
   "outputs": [
    {
     "data": {
      "text/plain": [
       "array([1])"
      ]
     },
     "execution_count": 42,
     "metadata": {},
     "output_type": "execute_result"
    }
   ],
   "source": [
    "binomial()"
   ]
  },
  {
   "cell_type": "code",
   "execution_count": 44,
   "metadata": {},
   "outputs": [
    {
     "data": {
      "text/plain": [
       "array([2, 1, 2, 2, 1, 0, 3, 1, 2, 1, 2, 1, 3, 2, 3, 3, 3, 2, 0, 2])"
      ]
     },
     "execution_count": 44,
     "metadata": {},
     "output_type": "execute_result"
    }
   ],
   "source": [
    "#flip 3 coins 20 times with probability of 0.5 of getting heads\n",
    "num_coins = 3\n",
    "distribution_size = 20\n",
    "p = 0.5\n",
    "\n",
    "binom = binomial(3,20,0.55)\n",
    "binom"
   ]
  },
  {
   "cell_type": "code",
   "execution_count": 45,
   "metadata": {},
   "outputs": [
    {
     "data": {
      "image/png": "[encoded data removed]",
      "text/plain": [
       "<Figure size 432x288 with 1 Axes>"
      ]
     },
     "metadata": {
      "needs_background": "light"
     },
     "output_type": "display_data"
    }
   ],
   "source": [
    "#Histogram showing binomial distribution of 3 weighted coins flipped 20 times with \n",
    "#probability 0.55 of getting heads\n",
    "\n",
    "binom = binomial(3,20,0.55)\n",
    "\n",
    "#Display distibution in a histogram\n",
    "plt.hist(binom)\n",
    "plt.show()"
   ]
  },
  {
   "cell_type": "code",
   "execution_count": 56,
   "metadata": {},
   "outputs": [
    {
     "data": {
      "image/png": "[encoded data removed]",
      "text/plain": [
       "<Figure size 432x288 with 1 Axes>"
      ]
     },
     "metadata": {
      "needs_background": "light"
     },
     "output_type": "display_data"
    }
   ],
   "source": [
    "#flip 50 weighted coins 100 times with probability of 0.75 of getting heads\n",
    "#binomial 50 coins, 100 trials ,p= 0.75\n",
    "num_coins = 50\n",
    "distribution_size = 100\n",
    "p = 0.75\n",
    "binom2 = binomial(50,100,0.75)\n",
    "\n",
    "#Display distibution in a histogram\n",
    "plt.hist(binom2)\n",
    "plt.show()"
   ]
  },
  {
   "cell_type": "markdown",
   "metadata": {},
   "source": [
    "# GEOMETRIC "
   ]
  },
  {
   "cell_type": "code",
   "execution_count": 50,
   "metadata": {},
   "outputs": [],
   "source": [
    "def geometric(distribution_size = 1,p = 0.3):\n",
    "    seed = random.randint(123456789,500000000000000)\n",
    "    U = uniform(0,1,distribution_size = distribution_size,seed = seed)\n",
    "    geometric = np.log(1 - U) / np.log(1 - p)\n",
    "    return geometric"
   ]
  },
  {
   "cell_type": "code",
   "execution_count": 51,
   "metadata": {},
   "outputs": [
    {
     "data": {
      "text/plain": [
       "array([7.02004936])"
      ]
     },
     "execution_count": 51,
     "metadata": {},
     "output_type": "execute_result"
    }
   ],
   "source": [
    "#p = 0.3 \n",
    "geometric()"
   ]
  },
  {
   "cell_type": "code",
   "execution_count": 54,
   "metadata": {},
   "outputs": [
    {
     "data": {
      "image/png": "[encoded data removed]",
      "text/plain": [
       "<Figure size 432x288 with 1 Axes>"
      ]
     },
     "metadata": {
      "needs_background": "light"
     },
     "output_type": "display_data"
    }
   ],
   "source": [
    "#Histogram of geometric distribution of size 10 with p = 0.3\n",
    "geometric(10,0.3)\n",
    "plt.hist(binom)\n",
    "plt.show()"
   ]
  }
 ],
 "metadata": {
  "kernelspec": {
   "display_name": "Python 3",
   "language": "python",
   "name": "python3"
  },
  "language_info": {
   "codemirror_mode": {
    "name": "ipython",
    "version": 3
   },
   "file_extension": ".py",
   "mimetype": "text/x-python",
   "name": "python",
   "nbconvert_exporter": "python",
   "pygments_lexer": "ipython3",
   "version": "3.8.5"
  }
 },
 "nbformat": 4,
 "nbformat_minor": 4
}
